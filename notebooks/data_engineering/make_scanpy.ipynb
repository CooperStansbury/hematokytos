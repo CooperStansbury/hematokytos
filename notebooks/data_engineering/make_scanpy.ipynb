{
 "cells": [
  {
   "cell_type": "code",
   "execution_count": 1,
   "id": "a4519683-000f-4ab7-a8c5-33957cab9fbd",
   "metadata": {},
   "outputs": [],
   "source": [
    "import pandas as pd\n",
    "import numpy as np\n",
    "import scanpy as sc"
   ]
  },
  {
   "cell_type": "code",
   "execution_count": 2,
   "id": "8507cfbb-f87d-4850-9f9d-a8a0824794fd",
   "metadata": {},
   "outputs": [
    {
     "data": {
      "text/plain": [
       "AnnData object with n_obs × n_vars = 171498 × 18867\n",
       "    obs: 'n_genes', 'dataset', 'n_genes_by_counts', 'total_counts'\n",
       "    var: 'n_cells_by_counts', 'mean_counts', 'pct_dropout_by_counts', 'total_counts', 'gene_id', 'token_id', 'gene_biotype', 'Chromosome', 'Start', 'End'\n",
       "    layers: 'counts'"
      ]
     },
     "execution_count": 2,
     "metadata": {},
     "output_type": "execute_result"
    }
   ],
   "source": [
    "fpath = \"/scratch/indikar_root/indikar1/cstansbu/hematokytos/merged_anndata/merged_adata.h5ad\"\n",
    "\n",
    "adata = sc.read_h5ad(fpath)\n",
    "adata"
   ]
  },
  {
   "cell_type": "markdown",
   "id": "7b890387-92a6-489c-91c9-24c43266916d",
   "metadata": {},
   "source": [
    "# merge the cell_type annotations"
   ]
  },
  {
   "cell_type": "code",
   "execution_count": 3,
   "id": "c6b49b7a-2331-4c5e-916a-6ab25aa6044c",
   "metadata": {},
   "outputs": [
    {
     "name": "stdout",
     "output_type": "stream",
     "text": [
      "df.shape=(174440, 4)\n"
     ]
    },
    {
     "data": {
      "text/html": [
       "<div>\n",
       "<style scoped>\n",
       "    .dataframe tbody tr th:only-of-type {\n",
       "        vertical-align: middle;\n",
       "    }\n",
       "\n",
       "    .dataframe tbody tr th {\n",
       "        vertical-align: top;\n",
       "    }\n",
       "\n",
       "    .dataframe thead th {\n",
       "        text-align: right;\n",
       "    }\n",
       "</style>\n",
       "<table border=\"1\" class=\"dataframe\">\n",
       "  <thead>\n",
       "    <tr style=\"text-align: right;\">\n",
       "      <th></th>\n",
       "      <th>obs_index</th>\n",
       "      <th>cell_type</th>\n",
       "      <th>dataset</th>\n",
       "      <th>standard_cell_type</th>\n",
       "    </tr>\n",
       "    <tr>\n",
       "      <th>cell_id</th>\n",
       "      <th></th>\n",
       "      <th></th>\n",
       "      <th></th>\n",
       "      <th></th>\n",
       "    </tr>\n",
       "  </thead>\n",
       "  <tbody>\n",
       "    <tr>\n",
       "      <th>PreBNK_AGTTGAAC-TTGCATAT_1_pellin</th>\n",
       "      <td>PreBNK_AGTTGAAC-TTGCATAT_1</td>\n",
       "      <td>PreBNK</td>\n",
       "      <td>pellin</td>\n",
       "      <td>PreBNK</td>\n",
       "    </tr>\n",
       "    <tr>\n",
       "      <th>PreBNK_AATCCGGC-TGAAATGA_1_pellin</th>\n",
       "      <td>PreBNK_AATCCGGC-TGAAATGA_1</td>\n",
       "      <td>PreBNK</td>\n",
       "      <td>pellin</td>\n",
       "      <td>PreBNK</td>\n",
       "    </tr>\n",
       "    <tr>\n",
       "      <th>PreBNK_CAAACATT-TCTGTGGT_1_pellin</th>\n",
       "      <td>PreBNK_CAAACATT-TCTGTGGT_1</td>\n",
       "      <td>PreBNK</td>\n",
       "      <td>pellin</td>\n",
       "      <td>PreBNK</td>\n",
       "    </tr>\n",
       "    <tr>\n",
       "      <th>PreBNK_AATCGAAG-AGTGAAAG_1_pellin</th>\n",
       "      <td>PreBNK_AATCGAAG-AGTGAAAG_1</td>\n",
       "      <td>PreBNK</td>\n",
       "      <td>pellin</td>\n",
       "      <td>PreBNK</td>\n",
       "    </tr>\n",
       "    <tr>\n",
       "      <th>PreBNK_CGTGTACA-TTCCAGAC_1_pellin</th>\n",
       "      <td>PreBNK_CGTGTACA-TTCCAGAC_1</td>\n",
       "      <td>PreBNK</td>\n",
       "      <td>pellin</td>\n",
       "      <td>PreBNK</td>\n",
       "    </tr>\n",
       "  </tbody>\n",
       "</table>\n",
       "</div>"
      ],
      "text/plain": [
       "                                                    obs_index cell_type  \\\n",
       "cell_id                                                                   \n",
       "PreBNK_AGTTGAAC-TTGCATAT_1_pellin  PreBNK_AGTTGAAC-TTGCATAT_1    PreBNK   \n",
       "PreBNK_AATCCGGC-TGAAATGA_1_pellin  PreBNK_AATCCGGC-TGAAATGA_1    PreBNK   \n",
       "PreBNK_CAAACATT-TCTGTGGT_1_pellin  PreBNK_CAAACATT-TCTGTGGT_1    PreBNK   \n",
       "PreBNK_AATCGAAG-AGTGAAAG_1_pellin  PreBNK_AATCGAAG-AGTGAAAG_1    PreBNK   \n",
       "PreBNK_CGTGTACA-TTCCAGAC_1_pellin  PreBNK_CGTGTACA-TTCCAGAC_1    PreBNK   \n",
       "\n",
       "                                  dataset standard_cell_type  \n",
       "cell_id                                                       \n",
       "PreBNK_AGTTGAAC-TTGCATAT_1_pellin  pellin             PreBNK  \n",
       "PreBNK_AATCCGGC-TGAAATGA_1_pellin  pellin             PreBNK  \n",
       "PreBNK_CAAACATT-TCTGTGGT_1_pellin  pellin             PreBNK  \n",
       "PreBNK_AATCGAAG-AGTGAAAG_1_pellin  pellin             PreBNK  \n",
       "PreBNK_CGTGTACA-TTCCAGAC_1_pellin  pellin             PreBNK  "
      ]
     },
     "execution_count": 3,
     "metadata": {},
     "output_type": "execute_result"
    }
   ],
   "source": [
    "fpath = \"/scratch/indikar_root/indikar1/cstansbu/hematokytos/annotation/cell_types.csv\"\n",
    "df = pd.read_csv(fpath)\n",
    "print(f\"{df.shape=}\")\n",
    "df['cell_id'] = df['obs_index'] + \"_\" + df[\"dataset\"]\n",
    "df = df.set_index('cell_id')\n",
    "df.head()"
   ]
  },
  {
   "cell_type": "code",
   "execution_count": 4,
   "id": "34a68c1d-a25f-42bf-b249-31ede056067f",
   "metadata": {},
   "outputs": [
    {
     "data": {
      "text/html": [
       "<div>\n",
       "<style scoped>\n",
       "    .dataframe tbody tr th:only-of-type {\n",
       "        vertical-align: middle;\n",
       "    }\n",
       "\n",
       "    .dataframe tbody tr th {\n",
       "        vertical-align: top;\n",
       "    }\n",
       "\n",
       "    .dataframe thead th {\n",
       "        text-align: right;\n",
       "    }\n",
       "</style>\n",
       "<table border=\"1\" class=\"dataframe\">\n",
       "  <thead>\n",
       "    <tr style=\"text-align: right;\">\n",
       "      <th></th>\n",
       "      <th>n_genes</th>\n",
       "      <th>dataset_x</th>\n",
       "      <th>n_genes_by_counts</th>\n",
       "      <th>total_counts</th>\n",
       "      <th>obs_index</th>\n",
       "      <th>cell_type</th>\n",
       "      <th>dataset_y</th>\n",
       "      <th>standard_cell_type</th>\n",
       "    </tr>\n",
       "  </thead>\n",
       "  <tbody>\n",
       "    <tr>\n",
       "      <th>PreBNK_AGTTGAAC-TTGCATAT_1_pellin</th>\n",
       "      <td>2637</td>\n",
       "      <td>pellin</td>\n",
       "      <td>2633</td>\n",
       "      <td>13711.738192</td>\n",
       "      <td>PreBNK_AGTTGAAC-TTGCATAT_1</td>\n",
       "      <td>PreBNK</td>\n",
       "      <td>pellin</td>\n",
       "      <td>PreBNK</td>\n",
       "    </tr>\n",
       "    <tr>\n",
       "      <th>PreBNK_AATCCGGC-TGAAATGA_1_pellin</th>\n",
       "      <td>1144</td>\n",
       "      <td>pellin</td>\n",
       "      <td>1142</td>\n",
       "      <td>7140.276133</td>\n",
       "      <td>PreBNK_AATCCGGC-TGAAATGA_1</td>\n",
       "      <td>PreBNK</td>\n",
       "      <td>pellin</td>\n",
       "      <td>PreBNK</td>\n",
       "    </tr>\n",
       "    <tr>\n",
       "      <th>PreBNK_CAAACATT-TCTGTGGT_1_pellin</th>\n",
       "      <td>877</td>\n",
       "      <td>pellin</td>\n",
       "      <td>873</td>\n",
       "      <td>5812.409500</td>\n",
       "      <td>PreBNK_CAAACATT-TCTGTGGT_1</td>\n",
       "      <td>PreBNK</td>\n",
       "      <td>pellin</td>\n",
       "      <td>PreBNK</td>\n",
       "    </tr>\n",
       "    <tr>\n",
       "      <th>PreBNK_CGTGTACA-TTCCAGAC_1_pellin</th>\n",
       "      <td>2233</td>\n",
       "      <td>pellin</td>\n",
       "      <td>2232</td>\n",
       "      <td>11925.223895</td>\n",
       "      <td>PreBNK_CGTGTACA-TTCCAGAC_1</td>\n",
       "      <td>PreBNK</td>\n",
       "      <td>pellin</td>\n",
       "      <td>PreBNK</td>\n",
       "    </tr>\n",
       "    <tr>\n",
       "      <th>PreBNK_CATGACGA-CTTACGGG_1_pellin</th>\n",
       "      <td>951</td>\n",
       "      <td>pellin</td>\n",
       "      <td>948</td>\n",
       "      <td>6039.884097</td>\n",
       "      <td>PreBNK_CATGACGA-CTTACGGG_1</td>\n",
       "      <td>PreBNK</td>\n",
       "      <td>pellin</td>\n",
       "      <td>PreBNK</td>\n",
       "    </tr>\n",
       "  </tbody>\n",
       "</table>\n",
       "</div>"
      ],
      "text/plain": [
       "                                   n_genes dataset_x  n_genes_by_counts  \\\n",
       "PreBNK_AGTTGAAC-TTGCATAT_1_pellin     2637    pellin               2633   \n",
       "PreBNK_AATCCGGC-TGAAATGA_1_pellin     1144    pellin               1142   \n",
       "PreBNK_CAAACATT-TCTGTGGT_1_pellin      877    pellin                873   \n",
       "PreBNK_CGTGTACA-TTCCAGAC_1_pellin     2233    pellin               2232   \n",
       "PreBNK_CATGACGA-CTTACGGG_1_pellin      951    pellin                948   \n",
       "\n",
       "                                   total_counts                   obs_index  \\\n",
       "PreBNK_AGTTGAAC-TTGCATAT_1_pellin  13711.738192  PreBNK_AGTTGAAC-TTGCATAT_1   \n",
       "PreBNK_AATCCGGC-TGAAATGA_1_pellin   7140.276133  PreBNK_AATCCGGC-TGAAATGA_1   \n",
       "PreBNK_CAAACATT-TCTGTGGT_1_pellin   5812.409500  PreBNK_CAAACATT-TCTGTGGT_1   \n",
       "PreBNK_CGTGTACA-TTCCAGAC_1_pellin  11925.223895  PreBNK_CGTGTACA-TTCCAGAC_1   \n",
       "PreBNK_CATGACGA-CTTACGGG_1_pellin   6039.884097  PreBNK_CATGACGA-CTTACGGG_1   \n",
       "\n",
       "                                  cell_type dataset_y standard_cell_type  \n",
       "PreBNK_AGTTGAAC-TTGCATAT_1_pellin    PreBNK    pellin             PreBNK  \n",
       "PreBNK_AATCCGGC-TGAAATGA_1_pellin    PreBNK    pellin             PreBNK  \n",
       "PreBNK_CAAACATT-TCTGTGGT_1_pellin    PreBNK    pellin             PreBNK  \n",
       "PreBNK_CGTGTACA-TTCCAGAC_1_pellin    PreBNK    pellin             PreBNK  \n",
       "PreBNK_CATGACGA-CTTACGGG_1_pellin    PreBNK    pellin             PreBNK  "
      ]
     },
     "execution_count": 4,
     "metadata": {},
     "output_type": "execute_result"
    }
   ],
   "source": [
    "adata.obs = pd.merge(\n",
    "    adata.obs,\n",
    "    df,\n",
    "    how='left',\n",
    "    left_index=True,\n",
    "    right_index=True,\n",
    ")\n",
    "adata.obs.head()"
   ]
  },
  {
   "cell_type": "code",
   "execution_count": 5,
   "id": "0952f537-21a8-42e1-a7b4-799d8466cb2a",
   "metadata": {},
   "outputs": [
    {
     "data": {
      "text/plain": [
       "AnnData object with n_obs × n_vars = 171498 × 18867\n",
       "    obs: 'n_genes', 'dataset_x', 'n_genes_by_counts', 'total_counts', 'obs_index', 'cell_type', 'dataset_y', 'standard_cell_type'\n",
       "    var: 'n_cells_by_counts', 'mean_counts', 'pct_dropout_by_counts', 'total_counts', 'gene_id', 'token_id', 'gene_biotype', 'Chromosome', 'Start', 'End'\n",
       "    layers: 'counts'"
      ]
     },
     "execution_count": 5,
     "metadata": {},
     "output_type": "execute_result"
    }
   ],
   "source": [
    "adata"
   ]
  },
  {
   "cell_type": "code",
   "execution_count": null,
   "id": "5f7a68f2-94ea-4f50-966d-f0b2412c7767",
   "metadata": {},
   "outputs": [],
   "source": []
  }
 ],
 "metadata": {
  "kernelspec": {
   "display_name": "scanpy",
   "language": "python",
   "name": "scanpy"
  },
  "language_info": {
   "codemirror_mode": {
    "name": "ipython",
    "version": 3
   },
   "file_extension": ".py",
   "mimetype": "text/x-python",
   "name": "python",
   "nbconvert_exporter": "python",
   "pygments_lexer": "ipython3",
   "version": "3.12.5"
  }
 },
 "nbformat": 4,
 "nbformat_minor": 5
}

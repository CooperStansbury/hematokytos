{
 "cells": [
  {
   "cell_type": "code",
   "execution_count": null,
   "id": "7cc92a4b-fb08-4afd-aa9a-04b7c3f1706d",
   "metadata": {},
   "outputs": [],
   "source": [
    "import sys\n",
    "import os\n",
    "import pandas as pd\n",
    "import numpy as np\n",
    "import scanpy as sc\n",
    "import torch\n",
    "import json\n",
    "import shutil\n",
    "import pickle\n",
    "import seaborn as sns\n",
    "import matplotlib.pyplot as plt\n",
    "import torch\n",
    "from geneformer import Classifier\n",
    "from datasets import Dataset, load_from_disk\n",
    "from datasets import load_dataset"
   ]
  },
  {
   "cell_type": "code",
   "execution_count": null,
   "id": "442ca237-e6a5-4696-b52b-7a3629f4a711",
   "metadata": {},
   "outputs": [],
   "source": []
  },
  {
   "cell_type": "code",
   "execution_count": null,
   "id": "cbff53e2-51b4-4d04-9827-5e3cbe9f20cb",
   "metadata": {},
   "outputs": [],
   "source": [
    "fpath = \"/scratch/indikar_root/indikar1/cstansbu/hematokytos/tokenized_data/merged_adata.dataset\"\n",
    "data = load_dataset(fpath)\n",
    "data = data.filter(lambda x: x['standard_cell_type'] == 'iHSC') \n",
    "data"
   ]
  }
 ],
 "metadata": {
  "kernelspec": {
   "display_name": "geneformer",
   "language": "python",
   "name": "geneformer"
  },
  "language_info": {
   "codemirror_mode": {
    "name": "ipython",
    "version": 3
   },
   "file_extension": ".py",
   "mimetype": "text/x-python",
   "name": "python",
   "nbconvert_exporter": "python",
   "pygments_lexer": "ipython3",
   "version": "3.10.13"
  }
 },
 "nbformat": 4,
 "nbformat_minor": 5
}

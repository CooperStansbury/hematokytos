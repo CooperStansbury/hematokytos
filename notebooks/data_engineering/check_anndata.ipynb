{
 "cells": [
  {
   "cell_type": "code",
   "execution_count": 5,
   "id": "0721c375-b94b-4040-a130-35d701e1f731",
   "metadata": {},
   "outputs": [],
   "source": [
    "import sys\n",
    "import pandas as pd\n",
    "import numpy as np\n",
    "import scanpy as sc\n",
    "import anndata as an\n",
    "import glob\n",
    "from scipy.sparse import csr_matrix\n",
    "import pickle\n",
    "\n",
    "sc.settings.verbosity = 3  "
   ]
  },
  {
   "cell_type": "code",
   "execution_count": 2,
   "id": "569e45cc-450f-4a09-acb0-7cbea1f55bd7",
   "metadata": {},
   "outputs": [
    {
     "data": {
      "text/plain": [
       "AnnData object with n_obs × n_vars = 171971 × 38053\n",
       "    obs: 'n_genes', 'dataset', 'n_genes_by_counts', 'total_counts'\n",
       "    var: 'n_cells_by_counts', 'mean_counts', 'pct_dropout_by_counts', 'total_counts'\n",
       "    layers: 'counts'"
      ]
     },
     "execution_count": 2,
     "metadata": {},
     "output_type": "execute_result"
    }
   ],
   "source": [
    "fpath = \"/scratch/indikar_root/indikar1/cstansbu/hematokytos/merged_anndata/merged_adata.h5ad\"\n",
    "\n",
    "adata = sc.read_h5ad(fpath)\n",
    "adata"
   ]
  },
  {
   "cell_type": "code",
   "execution_count": 4,
   "id": "62516717-5a22-4d47-8f13-069276647fa2",
   "metadata": {},
   "outputs": [
    {
     "data": {
      "text/plain": [
       "Index(['PreBNK_AGTTGAAC-TTGCATAT_1_pellin',\n",
       "       'PreBNK_AATCCGGC-TGAAATGA_1_pellin',\n",
       "       'PreBNK_CAAACATT-TCTGTGGT_1_pellin',\n",
       "       'PreBNK_CGTGTACA-TTCCAGAC_1_pellin',\n",
       "       'PreBNK_CATGACGA-CTTACGGG_1_pellin',\n",
       "       'PreBNK_GCTCGTAG-CTCAGAAT_1_pellin',\n",
       "       'PreBNK_CGATCCAA-ACACTAAG_1_pellin',\n",
       "       'PreBNK_AAGAAGGT-GAGCCCAT_1_pellin',\n",
       "       'PreBNK_ACCACAGA-TTGTGACT_1_pellin',\n",
       "       'PreBNK_AACAGCGG-AGTGATGC_1_pellin',\n",
       "       ...\n",
       "       'TGTGCAATCATATCCC_sc_fib', 'TGTGCAATCCTTGAGA_sc_fib',\n",
       "       'TGTGCATGTTAAGTCC_sc_fib', 'TGTGCCAGTTATCAGC_sc_fib',\n",
       "       'TGTGCGCGTATTGCCG_sc_fib', 'TGTGCGCGTTATCATG_sc_fib',\n",
       "       'TGTGCGCGTTCATCGG_sc_fib', 'TGTGCTGGTAGTAAGT_sc_fib',\n",
       "       'TGTGCTGGTGGCTCGT_sc_fib', 'TGTGCTGGTTCCGTGA_sc_fib'],\n",
       "      dtype='object', length=171961)"
      ]
     },
     "execution_count": 4,
     "metadata": {},
     "output_type": "execute_result"
    }
   ],
   "source": [
    "adata.obs_names[:-10]"
   ]
  },
  {
   "cell_type": "code",
   "execution_count": null,
   "id": "df03217a-cd49-419f-911a-fc1af771f866",
   "metadata": {},
   "outputs": [],
   "source": []
  }
 ],
 "metadata": {
  "kernelspec": {
   "display_name": "scanpy",
   "language": "python",
   "name": "scanpy"
  },
  "language_info": {
   "codemirror_mode": {
    "name": "ipython",
    "version": 3
   },
   "file_extension": ".py",
   "mimetype": "text/x-python",
   "name": "python",
   "nbconvert_exporter": "python",
   "pygments_lexer": "ipython3",
   "version": "3.12.5"
  }
 },
 "nbformat": 4,
 "nbformat_minor": 5
}

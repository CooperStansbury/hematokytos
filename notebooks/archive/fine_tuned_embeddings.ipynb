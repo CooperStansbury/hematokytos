{
 "cells": [
  {
   "cell_type": "code",
   "execution_count": 1,
   "id": "e8fb8682-ed3b-4547-a4ed-68850597eca3",
   "metadata": {},
   "outputs": [
    {
     "name": "stderr",
     "output_type": "stream",
     "text": [
      "/home/cstansbu/miniconda3/envs/geneformer/lib/python3.10/site-packages/tqdm/auto.py:21: TqdmWarning: IProgress not found. Please update jupyter and ipywidgets. See https://ipywidgets.readthedocs.io/en/stable/user_install.html\n",
      "  from .autonotebook import tqdm as notebook_tqdm\n"
     ]
    }
   ],
   "source": [
    "import sys\n",
    "import seaborn as sns\n",
    "import pandas as pd \n",
    "import numpy as np\n",
    "from scipy.spatial.distance import squareform, pdist\n",
    "import matplotlib.pyplot as plt\n",
    "\n",
    "import torch\n",
    "import anndata as an\n",
    "import scanpy as sc\n",
    "import os\n",
    "import gc\n",
    "from importlib import reload\n",
    "\n",
    "from datasets import Dataset, load_from_disk\n",
    "from datasets import load_dataset\n",
    "from geneformer import EmbExtractor\n",
    "import geneformer\n",
    "\n",
    "# classifer tools\n",
    "import xgboost\n",
    "from sklearn.preprocessing import LabelEncoder\n",
    "from sklearn.model_selection import train_test_split, KFold, cross_val_score\n",
    "from sklearn.metrics import accuracy_score, classification_report\n",
    "from sklearn.metrics import confusion_matrix\n",
    "from sklearn.metrics import silhouette_samples, silhouette_score\n",
    "\n",
    "# local imports\n",
    "import geneformer_utils as gtu\n",
    "\n",
    "sns.set_style('white')\n",
    "torch.cuda.empty_cache()"
   ]
  },
  {
   "cell_type": "code",
   "execution_count": 2,
   "id": "1d830178-5db5-4b1a-af0d-fa6d6a54b8f4",
   "metadata": {},
   "outputs": [
    {
     "name": "stderr",
     "output_type": "stream",
     "text": [
      "Some weights of BertForMaskedLM were not initialized from the model checkpoint at /scratch/indikar_root/indikar1/cstansbu/hematokytos/finetuned_models/merged_adata/240923_geneformer_cellClassifier_hsc/ksplit1/ and are newly initialized: ['cls.predictions.bias', 'cls.predictions.decoder.bias', 'cls.predictions.transform.LayerNorm.bias', 'cls.predictions.transform.LayerNorm.weight', 'cls.predictions.transform.dense.bias', 'cls.predictions.transform.dense.weight']\n",
      "You should probably TRAIN this model on a down-stream task to be able to use it for predictions and inference.\n"
     ]
    },
    {
     "name": "stdout",
     "output_type": "stream",
     "text": [
      "loaded!\n"
     ]
    }
   ],
   "source": [
    "\"\"\"Load the model\"\"\"\n",
    "model_path = \"/scratch/indikar_root/indikar1/cstansbu/hematokytos/finetuned_models/merged_adata/240923_geneformer_cellClassifier_hsc/ksplit1/\"\n",
    "model = gtu.load_model(model_path)\n",
    "print('loaded!')"
   ]
  },
  {
   "cell_type": "code",
   "execution_count": null,
   "id": "19b29555-2fff-4553-b915-b6481168bb75",
   "metadata": {},
   "outputs": [],
   "source": [
    "fpath = \"/scratch/indikar_root/indikar1/cstansbu/hematokytos/tokenized_data/merged_adata.dataset\"\n",
    "sample_size = 50000\n",
    "df = gtu.load_data_as_dataframe(\n",
    "    fpath, \n",
    "    num_cells=sample_size, \n",
    "    shuffle=True,\n",
    ")\n",
    "print(f\"{df.shape=}\")\n",
    "data = Dataset.from_pandas(df)\n",
    "data"
   ]
  },
  {
   "cell_type": "code",
   "execution_count": null,
   "id": "e8c16e0f-7c90-45e1-a8a8-362f13b25fd9",
   "metadata": {},
   "outputs": [],
   "source": [
    "reload(gtu)\n",
    "torch.cuda.empty_cache()\n",
    "embs = gtu.extract_embedding_in_mem(model, data, layer_to_quant=-1)\n",
    "print(f\"{embs.shape=}\")\n",
    "\n",
    "# translate into an anndata object and plot\n",
    "finetuned = gtu.embedding_to_adata(embs)\n",
    "finetuned.obs = df.copy()\n",
    "\n",
    "sc.tl.pca(finetuned)\n",
    "sc.pp.neighbors(finetuned)\n",
    "sc.tl.umap(finetuned)\n",
    "\n",
    "finetuned.obs['UMAP 1'] = finetuned.obsm['X_umap'][:, 0]\n",
    "finetuned.obs['UMAP 2'] = finetuned.obsm['X_umap'][:, 1]\n",
    "\n",
    "finetuned"
   ]
  },
  {
   "cell_type": "code",
   "execution_count": null,
   "id": "de1bca66-d7c1-4d6d-a407-0d37cec1e8ca",
   "metadata": {},
   "outputs": [],
   "source": [
    "plt.rcParams['figure.dpi'] = 200\n",
    "plt.rcParams['figure.figsize'] = 7, 7\n",
    "\n",
    "\n",
    "sns.scatterplot(\n",
    "    data=finetuned.obs,\n",
    "    x='UMAP 1',\n",
    "    y='UMAP 2',\n",
    "    c='k',\n",
    "    ec='none',\n",
    "    s=35,\n",
    ")\n",
    "\n",
    "sns.scatterplot(\n",
    "    data=finetuned.obs,\n",
    "    x='UMAP 1',\n",
    "    y='UMAP 2',\n",
    "    hue='standard_cell_type',\n",
    "    ec='none',\n",
    "    s=5,\n",
    ")\n",
    "\n",
    "sns.move_legend(\n",
    "    plt.gca(),\n",
    "    title=\"\",\n",
    "    frameon=False,\n",
    "    loc='center right',\n",
    "    bbox_to_anchor=(1.4, 0.5),\n",
    "    markerscale=2.5,\n",
    ")\n",
    "\n",
    "plt.xticks([])\n",
    "plt.yticks([])\n",
    "sns.despine()"
   ]
  },
  {
   "cell_type": "code",
   "execution_count": null,
   "id": "fed5ad3e-9227-47ca-874c-f99e83666a02",
   "metadata": {},
   "outputs": [],
   "source": [
    "plt.rcParams['figure.dpi'] = 200\n",
    "plt.rcParams['figure.figsize'] = 7, 7\n",
    "\n",
    "\n",
    "sns.scatterplot(\n",
    "    data=finetuned.obs,\n",
    "    x='UMAP 1',\n",
    "    y='UMAP 2',\n",
    "    c='k',\n",
    "    ec='none',\n",
    "    s=35,\n",
    ")\n",
    "\n",
    "sns.scatterplot(\n",
    "    data=finetuned.obs,\n",
    "    x='UMAP 1',\n",
    "    y='UMAP 2',\n",
    "    hue='dataset_x',\n",
    "    ec='none',\n",
    "    s=5,\n",
    ")\n",
    "\n",
    "sns.move_legend(\n",
    "    plt.gca(),\n",
    "    title=\"\",\n",
    "    frameon=False,\n",
    "    loc='center right',\n",
    "    bbox_to_anchor=(1.5, 0.5),\n",
    "    markerscale=2.5,\n",
    ")\n",
    "\n",
    "plt.xticks([])\n",
    "plt.yticks([])\n",
    "sns.despine()"
   ]
  },
  {
   "cell_type": "code",
   "execution_count": null,
   "id": "54192d23-3a50-4e44-b86e-5ec731deb17d",
   "metadata": {},
   "outputs": [],
   "source": [
    "break"
   ]
  },
  {
   "cell_type": "markdown",
   "id": "24ceda5e-9bda-48d6-8f74-6e554ccc279a",
   "metadata": {},
   "source": [
    "# how do these compare to the pretrainned embeddings?"
   ]
  },
  {
   "cell_type": "code",
   "execution_count": null,
   "id": "047c5161-4541-4828-851e-d0d344e5c761",
   "metadata": {},
   "outputs": [],
   "source": [
    "\"\"\"Load the model\"\"\"\n",
    "model_path = \"/scratch/indikar_root/indikar1/cstansbu/hematokytos/pretrained_model\"\n",
    "model = gtu.load_model(model_path)\n",
    "print('loaded!')"
   ]
  },
  {
   "cell_type": "code",
   "execution_count": null,
   "id": "ddba5f43-6df0-43f7-9cae-4f42a5e40112",
   "metadata": {},
   "outputs": [],
   "source": [
    "reload(gtu)\n",
    "torch.cuda.empty_cache()\n",
    "embs = gtu.extract_embedding_in_mem(model, data, layer_to_quant=-1)\n",
    "print(f\"{embs.shape=}\")\n",
    "\n",
    "# translate into an anndata object and plot\n",
    "pretrained = gtu.embedding_to_adata(embs)\n",
    "pretrained.obs = df.copy()\n",
    "\n",
    "sc.tl.pca(pretrained)\n",
    "sc.pp.neighbors(pretrained)\n",
    "sc.tl.umap(pretrained)\n",
    "\n",
    "plt.rcParams['figure.dpi'] = 200\n",
    "plt.rcParams['figure.figsize'] = 7, 7\n",
    "\n",
    "sc.pl.umap(\n",
    "    pretrained,\n",
    "    color=[\"standardized_cell_type\", \"dataset\", \"broad_type\"],\n",
    "    palette='tab20',\n",
    "    ncols=1,\n",
    "    size=30,\n",
    ")\n",
    "\n",
    "pretrained"
   ]
  },
  {
   "cell_type": "markdown",
   "id": "58b82cf8-c7a2-4158-a669-b9eb9ca56434",
   "metadata": {},
   "source": [
    "# Compare and Contrast"
   ]
  },
  {
   "cell_type": "code",
   "execution_count": null,
   "id": "b832f12c-fbea-45ad-8661-137134e2c889",
   "metadata": {},
   "outputs": [],
   "source": [
    "def compute_silhouette_score(adata, cluster_key):\n",
    "    \"\"\"Computes the average silhouette score for an AnnData object\n",
    "       using the .X data.\n",
    "\n",
    "    Args:\n",
    "        adata: AnnData object containing the data and cluster assignments.\n",
    "        cluster_key: Column in adata.obs containing cluster assignments.\n",
    "\n",
    "    Returns:\n",
    "        float: The average silhouette score.\n",
    "    \"\"\"\n",
    "\n",
    "    X_data = adata.X\n",
    "    labels = adata.obs[cluster_key].values\n",
    "\n",
    "    # Compute silhouette score\n",
    "    silhouette_avg = silhouette_score(X_data, labels, metric='euclidean')  # Adjust metric if needed\n",
    "\n",
    "    print(f\"Average silhouette score for '{cluster_key}': {silhouette_avg:.3f}\")\n",
    "    return silhouette_avg\n",
    "    \n",
    "    \n",
    "compute_silhouette_score(pretrained, 'standardized_cell_type')\n",
    "compute_silhouette_score(finetuned, 'standardized_cell_type')"
   ]
  },
  {
   "cell_type": "code",
   "execution_count": null,
   "id": "dde8226a-2d9f-46d2-a594-c43f3e18b3ee",
   "metadata": {},
   "outputs": [],
   "source": [
    "# for data set\n",
    "compute_silhouette_score(pretrained, 'dataset')\n",
    "compute_silhouette_score(finetuned, 'dataset')"
   ]
  },
  {
   "cell_type": "code",
   "execution_count": null,
   "id": "5897f67c-14fb-49b0-99e5-2416b03d560d",
   "metadata": {},
   "outputs": [],
   "source": [
    "compute_silhouette_score(pretrained, 'broad_type')\n",
    "compute_silhouette_score(finetuned, 'broad_type')"
   ]
  },
  {
   "cell_type": "code",
   "execution_count": null,
   "id": "5b970b3a-15e0-4e3a-a647-ada105086689",
   "metadata": {},
   "outputs": [],
   "source": []
  }
 ],
 "metadata": {
  "kernelspec": {
   "display_name": "geneformer",
   "language": "python",
   "name": "geneformer"
  },
  "language_info": {
   "codemirror_mode": {
    "name": "ipython",
    "version": 3
   },
   "file_extension": ".py",
   "mimetype": "text/x-python",
   "name": "python",
   "nbconvert_exporter": "python",
   "pygments_lexer": "ipython3",
   "version": "3.10.13"
  }
 },
 "nbformat": 4,
 "nbformat_minor": 5
}

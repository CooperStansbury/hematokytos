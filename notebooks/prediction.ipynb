{
 "cells": [
  {
   "cell_type": "code",
   "execution_count": 11,
   "id": "14bf0271-458b-4962-baae-cb08dacc8a4a",
   "metadata": {},
   "outputs": [],
   "source": [
    "import sys\n",
    "import os\n",
    "import pandas as pd\n",
    "import numpy as np\n",
    "import scanpy as sc\n",
    "import torch\n",
    "import json\n",
    "import shutil\n",
    "import pickle\n",
    "import seaborn as sns\n",
    "import matplotlib.pyplot as plt\n",
    "import torch\n",
    "from geneformer import Classifier\n",
    "from datasets import Dataset, load_from_disk\n",
    "from datasets import load_dataset\n",
    "from geneformer import EmbExtractor\n",
    "\n",
    "from transformers import (\n",
    "    BertForMaskedLM,\n",
    "    BertForSequenceClassification,\n",
    "    BertForTokenClassification,\n",
    ")"
   ]
  },
  {
   "cell_type": "markdown",
   "id": "774a60a7-35e9-4e58-bfa9-a607ce44ca10",
   "metadata": {},
   "source": [
    "# Load the Model"
   ]
  },
  {
   "cell_type": "code",
   "execution_count": 2,
   "id": "48d572c7-7cbb-422a-8818-1da2f0847804",
   "metadata": {},
   "outputs": [
    {
     "name": "stdout",
     "output_type": "stream",
     "text": [
      "done!\n"
     ]
    }
   ],
   "source": [
    "torch.cuda.empty_cache()\n",
    "\n",
    "def load_pickle_file(file_path):\n",
    "    with open(file_path, 'rb') as file:\n",
    "        loaded_object = pickle.load(file)\n",
    "    return loaded_object\n",
    "\n",
    "def load_model(model_directory, id_class_dict_file):    \n",
    "    class_dict = load_pickle_file(id_class_dict_file)\n",
    "    num_classes = len(class_dict)\n",
    "    \n",
    "    model = BertForSequenceClassification.from_pretrained(\n",
    "            model_directory,\n",
    "            num_labels=num_classes,\n",
    "            output_hidden_states=True,\n",
    "            output_attentions=False,\n",
    "        )\n",
    "    \n",
    "    model.eval()\n",
    "    model = model.to(\"cuda\")\n",
    "    return model, class_dict\n",
    "\n",
    "\n",
    "model_directory = \"/scratch/indikar_root/indikar1/cstansbu/hematokytos/finetuned_models/merged_adata/240923_geneformer_cellClassifier_hsc/ksplit1/\"\n",
    "id_class_dict_file = \"/scratch/indikar_root/indikar1/cstansbu/hematokytos/finetuned_models/merged_adata/hsc_id_class_dict.pkl\"\n",
    "model, class_dict = load_model(model_directory, id_class_dict_file)\n",
    "print('done!')"
   ]
  },
  {
   "cell_type": "markdown",
   "id": "8e499b04-3cf0-4045-bed2-3fec6f0f4f17",
   "metadata": {},
   "source": [
    "# Load the Data"
   ]
  },
  {
   "cell_type": "code",
   "execution_count": 3,
   "id": "82946351-24e9-4d53-9123-30f8cf47c125",
   "metadata": {},
   "outputs": [
    {
     "data": {
      "text/plain": [
       "Dataset({\n",
       "    features: ['n_genes', 'dataset_x', 'n_genes_by_counts', 'total_counts', 'obs_index', 'cell_type', 'dataset_y', 'standard_cell_type', 'cell_id', 'input_ids', 'length', 'total_length'],\n",
       "    num_rows: 8379\n",
       "})"
      ]
     },
     "execution_count": 3,
     "metadata": {},
     "output_type": "execute_result"
    }
   ],
   "source": [
    "torch.cuda.empty_cache()\n",
    "\n",
    "fpath = \"/scratch/indikar_root/indikar1/cstansbu/hematokytos/tokenized_data/merged_adata.dataset\"\n",
    "data = load_from_disk(fpath)\n",
    "data = data.filter(lambda x: x['standard_cell_type'] == 'iHSC') \n",
    "data"
   ]
  },
  {
   "cell_type": "code",
   "execution_count": 7,
   "id": "4e9a898d-9947-43b8-86b7-97c54fa0c795",
   "metadata": {},
   "outputs": [
    {
     "name": "stdout",
     "output_type": "stream",
     "text": [
      "preds.shape=(8379, 20)\n"
     ]
    },
    {
     "data": {
      "text/html": [
       "<div>\n",
       "<style scoped>\n",
       "    .dataframe tbody tr th:only-of-type {\n",
       "        vertical-align: middle;\n",
       "    }\n",
       "\n",
       "    .dataframe tbody tr th {\n",
       "        vertical-align: top;\n",
       "    }\n",
       "\n",
       "    .dataframe thead th {\n",
       "        text-align: right;\n",
       "    }\n",
       "</style>\n",
       "<table border=\"1\" class=\"dataframe\">\n",
       "  <thead>\n",
       "    <tr style=\"text-align: right;\">\n",
       "      <th></th>\n",
       "      <th>MDP</th>\n",
       "      <th>CLP</th>\n",
       "      <th>CMP</th>\n",
       "      <th>T_cell</th>\n",
       "      <th>Fib</th>\n",
       "      <th>MEP</th>\n",
       "      <th>LMPP</th>\n",
       "      <th>LinNeg</th>\n",
       "      <th>GMP</th>\n",
       "      <th>MKP</th>\n",
       "      <th>NK</th>\n",
       "      <th>MLP</th>\n",
       "      <th>MPP</th>\n",
       "      <th>PreBNK</th>\n",
       "      <th>Mono</th>\n",
       "      <th>EryP</th>\n",
       "      <th>Dendritic_cell</th>\n",
       "      <th>B_cell</th>\n",
       "      <th>HSC</th>\n",
       "      <th>None</th>\n",
       "    </tr>\n",
       "  </thead>\n",
       "  <tbody>\n",
       "    <tr>\n",
       "      <th>0</th>\n",
       "      <td>6.466100e-07</td>\n",
       "      <td>1.704856e-07</td>\n",
       "      <td>8.326539e-08</td>\n",
       "      <td>0.000001</td>\n",
       "      <td>0.999983</td>\n",
       "      <td>4.024139e-07</td>\n",
       "      <td>1.008224e-06</td>\n",
       "      <td>5.533223e-07</td>\n",
       "      <td>3.662731e-07</td>\n",
       "      <td>4.150307e-07</td>\n",
       "      <td>1.069080e-06</td>\n",
       "      <td>0.000004</td>\n",
       "      <td>5.235543e-07</td>\n",
       "      <td>0.000002</td>\n",
       "      <td>8.473451e-07</td>\n",
       "      <td>0.000002</td>\n",
       "      <td>7.926232e-07</td>\n",
       "      <td>4.323337e-08</td>\n",
       "      <td>5.628409e-07</td>\n",
       "      <td>3.006259e-07</td>\n",
       "    </tr>\n",
       "    <tr>\n",
       "      <th>1</th>\n",
       "      <td>7.063045e-07</td>\n",
       "      <td>1.588980e-07</td>\n",
       "      <td>7.701610e-08</td>\n",
       "      <td>0.000001</td>\n",
       "      <td>0.999983</td>\n",
       "      <td>4.782306e-07</td>\n",
       "      <td>8.023310e-07</td>\n",
       "      <td>5.496914e-07</td>\n",
       "      <td>3.469096e-07</td>\n",
       "      <td>4.389315e-07</td>\n",
       "      <td>9.734007e-07</td>\n",
       "      <td>0.000003</td>\n",
       "      <td>4.695495e-07</td>\n",
       "      <td>0.000002</td>\n",
       "      <td>1.203602e-06</td>\n",
       "      <td>0.000003</td>\n",
       "      <td>9.501792e-07</td>\n",
       "      <td>4.745521e-08</td>\n",
       "      <td>7.525430e-07</td>\n",
       "      <td>3.441485e-07</td>\n",
       "    </tr>\n",
       "    <tr>\n",
       "      <th>2</th>\n",
       "      <td>7.052451e-07</td>\n",
       "      <td>1.874675e-07</td>\n",
       "      <td>9.978721e-08</td>\n",
       "      <td>0.000001</td>\n",
       "      <td>0.999981</td>\n",
       "      <td>4.617429e-07</td>\n",
       "      <td>1.063642e-06</td>\n",
       "      <td>6.154831e-07</td>\n",
       "      <td>4.118286e-07</td>\n",
       "      <td>4.312199e-07</td>\n",
       "      <td>1.412094e-06</td>\n",
       "      <td>0.000004</td>\n",
       "      <td>5.020879e-07</td>\n",
       "      <td>0.000002</td>\n",
       "      <td>9.916835e-07</td>\n",
       "      <td>0.000003</td>\n",
       "      <td>8.170274e-07</td>\n",
       "      <td>6.074721e-08</td>\n",
       "      <td>6.598146e-07</td>\n",
       "      <td>3.931012e-07</td>\n",
       "    </tr>\n",
       "    <tr>\n",
       "      <th>3</th>\n",
       "      <td>6.908883e-07</td>\n",
       "      <td>1.752546e-07</td>\n",
       "      <td>1.031039e-07</td>\n",
       "      <td>0.000001</td>\n",
       "      <td>0.999981</td>\n",
       "      <td>5.026324e-07</td>\n",
       "      <td>1.101138e-06</td>\n",
       "      <td>5.016560e-07</td>\n",
       "      <td>3.798956e-07</td>\n",
       "      <td>4.850443e-07</td>\n",
       "      <td>1.461084e-06</td>\n",
       "      <td>0.000004</td>\n",
       "      <td>6.348708e-07</td>\n",
       "      <td>0.000002</td>\n",
       "      <td>1.162472e-06</td>\n",
       "      <td>0.000003</td>\n",
       "      <td>7.623217e-07</td>\n",
       "      <td>5.954168e-08</td>\n",
       "      <td>8.260849e-07</td>\n",
       "      <td>5.292144e-07</td>\n",
       "    </tr>\n",
       "    <tr>\n",
       "      <th>4</th>\n",
       "      <td>7.402924e-07</td>\n",
       "      <td>1.839108e-07</td>\n",
       "      <td>8.578968e-08</td>\n",
       "      <td>0.000001</td>\n",
       "      <td>0.999982</td>\n",
       "      <td>4.949319e-07</td>\n",
       "      <td>9.726460e-07</td>\n",
       "      <td>5.963747e-07</td>\n",
       "      <td>3.911983e-07</td>\n",
       "      <td>4.739692e-07</td>\n",
       "      <td>1.049831e-06</td>\n",
       "      <td>0.000004</td>\n",
       "      <td>5.075132e-07</td>\n",
       "      <td>0.000002</td>\n",
       "      <td>1.036138e-06</td>\n",
       "      <td>0.000003</td>\n",
       "      <td>9.686693e-07</td>\n",
       "      <td>4.743370e-08</td>\n",
       "      <td>6.719266e-07</td>\n",
       "      <td>3.277330e-07</td>\n",
       "    </tr>\n",
       "  </tbody>\n",
       "</table>\n",
       "</div>"
      ],
      "text/plain": [
       "            MDP           CLP           CMP    T_cell       Fib           MEP  \\\n",
       "0  6.466100e-07  1.704856e-07  8.326539e-08  0.000001  0.999983  4.024139e-07   \n",
       "1  7.063045e-07  1.588980e-07  7.701610e-08  0.000001  0.999983  4.782306e-07   \n",
       "2  7.052451e-07  1.874675e-07  9.978721e-08  0.000001  0.999981  4.617429e-07   \n",
       "3  6.908883e-07  1.752546e-07  1.031039e-07  0.000001  0.999981  5.026324e-07   \n",
       "4  7.402924e-07  1.839108e-07  8.578968e-08  0.000001  0.999982  4.949319e-07   \n",
       "\n",
       "           LMPP        LinNeg           GMP           MKP            NK  \\\n",
       "0  1.008224e-06  5.533223e-07  3.662731e-07  4.150307e-07  1.069080e-06   \n",
       "1  8.023310e-07  5.496914e-07  3.469096e-07  4.389315e-07  9.734007e-07   \n",
       "2  1.063642e-06  6.154831e-07  4.118286e-07  4.312199e-07  1.412094e-06   \n",
       "3  1.101138e-06  5.016560e-07  3.798956e-07  4.850443e-07  1.461084e-06   \n",
       "4  9.726460e-07  5.963747e-07  3.911983e-07  4.739692e-07  1.049831e-06   \n",
       "\n",
       "        MLP           MPP    PreBNK          Mono      EryP  Dendritic_cell  \\\n",
       "0  0.000004  5.235543e-07  0.000002  8.473451e-07  0.000002    7.926232e-07   \n",
       "1  0.000003  4.695495e-07  0.000002  1.203602e-06  0.000003    9.501792e-07   \n",
       "2  0.000004  5.020879e-07  0.000002  9.916835e-07  0.000003    8.170274e-07   \n",
       "3  0.000004  6.348708e-07  0.000002  1.162472e-06  0.000003    7.623217e-07   \n",
       "4  0.000004  5.075132e-07  0.000002  1.036138e-06  0.000003    9.686693e-07   \n",
       "\n",
       "         B_cell           HSC          None  \n",
       "0  4.323337e-08  5.628409e-07  3.006259e-07  \n",
       "1  4.745521e-08  7.525430e-07  3.441485e-07  \n",
       "2  6.074721e-08  6.598146e-07  3.931012e-07  \n",
       "3  5.954168e-08  8.260849e-07  5.292144e-07  \n",
       "4  4.743370e-08  6.719266e-07  3.277330e-07  "
      ]
     },
     "execution_count": 7,
     "metadata": {},
     "output_type": "execute_result"
    }
   ],
   "source": [
    "torch.cuda.empty_cache()\n",
    "    \n",
    "def find_largest_div(N, K):\n",
    "    rem = N % K\n",
    "    if rem == 0:\n",
    "        return N\n",
    "    else:\n",
    "        return N - rem\n",
    "    \n",
    "    \n",
    "def classifier_predict(model, data, class_dict, forward_batch_size=200, label_name='standard_cell_type'):\n",
    "    predict_logits = []\n",
    "    \n",
    "    model.eval()\n",
    "    evalset_len = len(data)\n",
    "    \n",
    "    def get_attention_mask(row):\n",
    "        row[\"attention_mask\"] = (\n",
    "            np.where(row[\"input_ids\"] == 0.0, False, True)  # PAD TOKEN IS 0\n",
    "        ).astype(int)\n",
    "        return row\n",
    "        \n",
    "    for i in range(0, evalset_len, forward_batch_size):\n",
    "        max_range = min(i + forward_batch_size, evalset_len)\n",
    "        batch = data.select([i for i in range(i, max_range)])\n",
    "        batch = batch.map(get_attention_mask)\n",
    "        \n",
    "        batch.set_format(type=\"torch\")    \n",
    "        with torch.no_grad():\n",
    "            outputs = model(\n",
    "                input_ids=batch['input_ids'].to(\"cuda\"),\n",
    "                attention_mask=batch['attention_mask'].to(\"cuda\"),\n",
    "            )\n",
    "            predict_logits += [torch.squeeze(outputs.logits.to(\"cpu\"))]\n",
    "            \n",
    "    # Apply softmax to get probabilities\n",
    "    preds = torch.softmax(torch.cat(predict_logits), dim=1) \n",
    "    preds = pd.DataFrame(preds.numpy())\n",
    "    preds.columns = [class_dict[x] for x in preds.columns]\n",
    "    return preds\n",
    "            \n",
    "preds = classifier_predict(model, data, class_dict)\n",
    "print(f\"{preds.shape=}\")\n",
    "preds.head()"
   ]
  },
  {
   "cell_type": "code",
   "execution_count": 9,
   "id": "705ccc5d-71a2-4b16-8c64-109932b536f0",
   "metadata": {},
   "outputs": [
    {
     "data": {
      "text/html": [
       "<div>\n",
       "<style scoped>\n",
       "    .dataframe tbody tr th:only-of-type {\n",
       "        vertical-align: middle;\n",
       "    }\n",
       "\n",
       "    .dataframe tbody tr th {\n",
       "        vertical-align: top;\n",
       "    }\n",
       "\n",
       "    .dataframe thead th {\n",
       "        text-align: right;\n",
       "    }\n",
       "</style>\n",
       "<table border=\"1\" class=\"dataframe\">\n",
       "  <thead>\n",
       "    <tr style=\"text-align: right;\">\n",
       "      <th></th>\n",
       "      <th>cell_id</th>\n",
       "      <th>variable</th>\n",
       "      <th>value</th>\n",
       "    </tr>\n",
       "  </thead>\n",
       "  <tbody>\n",
       "    <tr>\n",
       "      <th>0</th>\n",
       "      <td>0</td>\n",
       "      <td>MDP</td>\n",
       "      <td>6.466100e-07</td>\n",
       "    </tr>\n",
       "    <tr>\n",
       "      <th>1</th>\n",
       "      <td>1</td>\n",
       "      <td>MDP</td>\n",
       "      <td>7.063045e-07</td>\n",
       "    </tr>\n",
       "    <tr>\n",
       "      <th>2</th>\n",
       "      <td>2</td>\n",
       "      <td>MDP</td>\n",
       "      <td>7.052451e-07</td>\n",
       "    </tr>\n",
       "    <tr>\n",
       "      <th>3</th>\n",
       "      <td>3</td>\n",
       "      <td>MDP</td>\n",
       "      <td>6.908883e-07</td>\n",
       "    </tr>\n",
       "    <tr>\n",
       "      <th>4</th>\n",
       "      <td>4</td>\n",
       "      <td>MDP</td>\n",
       "      <td>7.402924e-07</td>\n",
       "    </tr>\n",
       "  </tbody>\n",
       "</table>\n",
       "</div>"
      ],
      "text/plain": [
       "   cell_id variable         value\n",
       "0        0      MDP  6.466100e-07\n",
       "1        1      MDP  7.063045e-07\n",
       "2        2      MDP  7.052451e-07\n",
       "3        3      MDP  6.908883e-07\n",
       "4        4      MDP  7.402924e-07"
      ]
     },
     "execution_count": 9,
     "metadata": {},
     "output_type": "execute_result"
    }
   ],
   "source": [
    "pdf = preds.copy()\n",
    "pdf = pdf.reset_index(names='cell_id')\n",
    "pdf = pd.melt(pdf, id_vars='cell_id')\n",
    "\n",
    "pdf.head()"
   ]
  },
  {
   "cell_type": "code",
   "execution_count": 24,
   "id": "d41a2f29-fe85-47eb-a2fe-d7a148b911df",
   "metadata": {},
   "outputs": [
    {
     "data": {
      "image/png": "[encoded data removed]",
      "text/plain": [
       "<Figure size 1000x600 with 1 Axes>"
      ]
     },
     "metadata": {},
     "output_type": "display_data"
    }
   ],
   "source": [
    "plt.rcParams['figure.dpi'] = 200\n",
    "plt.rcParams['figure.figsize'] = 5, 3\n",
    "\n",
    "sns.barplot(\n",
    "    data=pdf,\n",
    "    x='variable',\n",
    "    y='value',\n",
    "    ec='k',\n",
    ")\n",
    "\n",
    "plt.ylabel('Mean Pred. P(x)')\n",
    "plt.xlabel('Cell Type')\n",
    "\n",
    "plt.gca().tick_params(axis='x', rotation=90)"
   ]
  },
  {
   "cell_type": "code",
   "execution_count": 5,
   "id": "bc9b78fa-7061-4ac2-8753-cd2be2804b26",
   "metadata": {},
   "outputs": [
    {
     "ename": "SyntaxError",
     "evalue": "'break' outside loop (668683560.py, line 1)",
     "output_type": "error",
     "traceback": [
      "\u001b[0;36m  Cell \u001b[0;32mIn[5], line 1\u001b[0;36m\u001b[0m\n\u001b[0;31m    break\u001b[0m\n\u001b[0m    ^\u001b[0m\n\u001b[0;31mSyntaxError\u001b[0m\u001b[0;31m:\u001b[0m 'break' outside loop\n"
     ]
    }
   ],
   "source": [
    "break"
   ]
  },
  {
   "cell_type": "code",
   "execution_count": null,
   "id": "8fc54877-f748-4cad-bfd8-846e80e56c75",
   "metadata": {},
   "outputs": [],
   "source": []
  },
  {
   "cell_type": "code",
   "execution_count": null,
   "id": "733a0b9f-cc8f-4382-b65d-9d53c8520519",
   "metadata": {},
   "outputs": [],
   "source": []
  },
  {
   "cell_type": "code",
   "execution_count": null,
   "id": "15ed6033-0f8a-4a2c-9f11-61ae75f640b8",
   "metadata": {},
   "outputs": [],
   "source": [
    "type(model)"
   ]
  },
  {
   "cell_type": "code",
   "execution_count": null,
   "id": "f0f2af9c-2199-472e-b576-8ff12f1d9111",
   "metadata": {},
   "outputs": [],
   "source": [
    " elif model_type == \"CellClassifier\":\n",
    "        model = BertForSequenceClassification.from_pretrained(\n",
    "            model_directory,\n",
    "            num_labels=num_classes,\n",
    "            output_hidden_states=output_hidden_states,\n",
    "            output_attentions=False,\n",
    "        )\n",
    "    # if eval mode, put the model in eval mode for fwd pass\n",
    "    if mode == \"eval\":\n",
    "        model.eval()"
   ]
  },
  {
   "cell_type": "code",
   "execution_count": null,
   "id": "e6b75969-182b-4eea-9e01-a6590d160094",
   "metadata": {},
   "outputs": [],
   "source": []
  },
  {
   "cell_type": "code",
   "execution_count": null,
   "id": "527f7b60-fb62-4766-95d1-c504ec1fd0a7",
   "metadata": {},
   "outputs": [],
   "source": []
  },
  {
   "cell_type": "code",
   "execution_count": null,
   "id": "aa0c68d9-d4df-4190-83db-c55bd595069e",
   "metadata": {},
   "outputs": [],
   "source": [
    "?Classifier"
   ]
  },
  {
   "cell_type": "code",
   "execution_count": null,
   "id": "8d33fe3f-2881-4f2c-9013-bbc4e205baa4",
   "metadata": {},
   "outputs": [],
   "source": []
  },
  {
   "cell_type": "code",
   "execution_count": null,
   "id": "cdd9c25a-ec2f-4585-babb-791279784f96",
   "metadata": {},
   "outputs": [],
   "source": []
  },
  {
   "cell_type": "code",
   "execution_count": null,
   "id": "16410b39-d66a-4633-b22b-32a7015b9acd",
   "metadata": {},
   "outputs": [],
   "source": [
    "\"\"\"Load the model\"\"\"\n",
    "model_path = \"/scratch/indikar_root/indikar1/cstansbu/hematokytos/finetuned_models/merged_adata/240923_geneformer_cellClassifier_hsc/ksplit1\"\n",
    "model = gtu.load_model(model_path)\n",
    "print('loaded!')"
   ]
  }
 ],
 "metadata": {
  "kernelspec": {
   "display_name": "geneformer",
   "language": "python",
   "name": "geneformer"
  },
  "language_info": {
   "codemirror_mode": {
    "name": "ipython",
    "version": 3
   },
   "file_extension": ".py",
   "mimetype": "text/x-python",
   "name": "python",
   "nbconvert_exporter": "python",
   "pygments_lexer": "ipython3",
   "version": "3.10.13"
  }
 },
 "nbformat": 4,
 "nbformat_minor": 5
}

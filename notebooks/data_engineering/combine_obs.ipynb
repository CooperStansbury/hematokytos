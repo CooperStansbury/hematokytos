{
 "cells": [
  {
   "cell_type": "code",
   "execution_count": 19,
   "id": "771a5eac-b4fc-4c3a-98d5-2142d1a5c960",
   "metadata": {},
   "outputs": [],
   "source": [
    "import pandas as pd\n",
    "import sys\n",
    "import os\n",
    "import glob\n",
    "import yaml"
   ]
  },
  {
   "cell_type": "code",
   "execution_count": 2,
   "id": "7ff3866b-7144-48bb-b94f-6058c7534d9d",
   "metadata": {},
   "outputs": [
    {
     "data": {
      "text/plain": [
       "['/scratch/indikar_root/indikar1/cstansbu/hematokytos/obs/weng_old2_BMMC_HSPC.csv',\n",
       " '/scratch/indikar_root/indikar1/cstansbu/hematokytos/obs/weng_young2_all.csv',\n",
       " '/scratch/indikar_root/indikar1/cstansbu/hematokytos/obs/tabula_sapiens.csv',\n",
       " '/scratch/indikar_root/indikar1/cstansbu/hematokytos/obs/weng_young2_HSC.csv',\n",
       " '/scratch/indikar_root/indikar1/cstansbu/hematokytos/obs/iHSC.csv',\n",
       " '/scratch/indikar_root/indikar1/cstansbu/hematokytos/obs/weng_young1_all_t2.csv',\n",
       " '/scratch/indikar_root/indikar1/cstansbu/hematokytos/obs/weng_young1_all_t1.csv',\n",
       " '/scratch/indikar_root/indikar1/cstansbu/hematokytos/obs/weng_old1_BMMC_HSPC.csv',\n",
       " '/scratch/indikar_root/indikar1/cstansbu/hematokytos/obs/sc_fib.csv',\n",
       " '/scratch/indikar_root/indikar1/cstansbu/hematokytos/obs/pellin.csv']"
      ]
     },
     "execution_count": 2,
     "metadata": {},
     "output_type": "execute_result"
    }
   ],
   "source": [
    "dpath = \"/scratch/indikar_root/indikar1/cstansbu/hematokytos/obs\"\n",
    "file_list = glob.glob(f\"{dpath}/*\")\n",
    "file_list"
   ]
  },
  {
   "cell_type": "code",
   "execution_count": 15,
   "id": "0cbdbad7-7475-4e7f-8af3-323ae77d4b53",
   "metadata": {},
   "outputs": [
    {
     "data": {
      "text/html": [
       "<div>\n",
       "<style scoped>\n",
       "    .dataframe tbody tr th:only-of-type {\n",
       "        vertical-align: middle;\n",
       "    }\n",
       "\n",
       "    .dataframe tbody tr th {\n",
       "        vertical-align: top;\n",
       "    }\n",
       "\n",
       "    .dataframe thead th {\n",
       "        text-align: right;\n",
       "    }\n",
       "</style>\n",
       "<table border=\"1\" class=\"dataframe\">\n",
       "  <thead>\n",
       "    <tr style=\"text-align: right;\">\n",
       "      <th></th>\n",
       "      <th>obs_index</th>\n",
       "      <th>cell_type</th>\n",
       "      <th>dataset</th>\n",
       "    </tr>\n",
       "  </thead>\n",
       "  <tbody>\n",
       "    <tr>\n",
       "      <th>0</th>\n",
       "      <td>AAACAGCCAACTGGCT-1</td>\n",
       "      <td>EryP</td>\n",
       "      <td>weng_old2_BMMC_HSPC</td>\n",
       "    </tr>\n",
       "    <tr>\n",
       "      <th>1</th>\n",
       "      <td>AAACAGCCAAGCCAGA-2</td>\n",
       "      <td>MPP</td>\n",
       "      <td>weng_old2_BMMC_HSPC</td>\n",
       "    </tr>\n",
       "    <tr>\n",
       "      <th>2</th>\n",
       "      <td>AAACAGCCAATAATCC-1</td>\n",
       "      <td>Mono</td>\n",
       "      <td>weng_old2_BMMC_HSPC</td>\n",
       "    </tr>\n",
       "    <tr>\n",
       "      <th>3</th>\n",
       "      <td>AAACAGCCACAGGATG-1</td>\n",
       "      <td>ProB</td>\n",
       "      <td>weng_old2_BMMC_HSPC</td>\n",
       "    </tr>\n",
       "    <tr>\n",
       "      <th>4</th>\n",
       "      <td>AAACAGCCAGAAACGT-2</td>\n",
       "      <td>Mono</td>\n",
       "      <td>weng_old2_BMMC_HSPC</td>\n",
       "    </tr>\n",
       "  </tbody>\n",
       "</table>\n",
       "</div>"
      ],
      "text/plain": [
       "            obs_index cell_type              dataset\n",
       "0  AAACAGCCAACTGGCT-1      EryP  weng_old2_BMMC_HSPC\n",
       "1  AAACAGCCAAGCCAGA-2       MPP  weng_old2_BMMC_HSPC\n",
       "2  AAACAGCCAATAATCC-1      Mono  weng_old2_BMMC_HSPC\n",
       "3  AAACAGCCACAGGATG-1      ProB  weng_old2_BMMC_HSPC\n",
       "4  AAACAGCCAGAAACGT-2      Mono  weng_old2_BMMC_HSPC"
      ]
     },
     "execution_count": 15,
     "metadata": {},
     "output_type": "execute_result"
    }
   ],
   "source": [
    "cell_type_columns = { \n",
    "    'STD.CellType' : 'cell_type',\n",
    "    'celltype' : 'cell_type',\n",
    "    'dataset' : 'cell_type',\n",
    "}\n",
    "\n",
    "result = []\n",
    "\n",
    "for fpath in file_list:\n",
    "    basename = os.path.basename(fpath)\n",
    "    sample_id = basename.split(\".\")[0]\n",
    "    \n",
    "    df = pd.read_csv(fpath)    \n",
    "    df = df.rename(columns=cell_type_columns)\n",
    "    if not 'cell_type' in df.columns:\n",
    "        df['cell_type'] = sample_id\n",
    "    \n",
    "    df = df[['obs_index', 'cell_type']]\n",
    "    df['dataset'] = sample_id\n",
    "    \n",
    "    result.append(df)\n",
    "    \n",
    "    \n",
    "result = pd.concat(result)\n",
    "result.head()"
   ]
  },
  {
   "cell_type": "code",
   "execution_count": 20,
   "id": "ce4fe179-7f9d-4647-9a8f-7f36513744b4",
   "metadata": {},
   "outputs": [
    {
     "data": {
      "text/plain": [
       "{'B': 'B_cell',\n",
       " 'CD4': 'T_cell',\n",
       " 'CD8': 'T_cell',\n",
       " 'CLP': 'CLP',\n",
       " 'CMP': 'CMP',\n",
       " 'EryP': 'EryP',\n",
       " 'FB': 'Fib',\n",
       " 'GMP': 'GMP',\n",
       " 'HSC': 'HSC',\n",
       " 'LMPP': 'LMPP',\n",
       " 'LinNegCD34NegCD164high': 'LinNeg',\n",
       " 'LinNegCD34NegCD164low': 'LinNeg',\n",
       " 'LinNegCD34PosCD164Pos': 'LinNeg',\n",
       " 'LinNegCD34lowCD164high': 'LinNeg',\n",
       " 'MDP': 'MDP',\n",
       " 'MEP': 'MEP',\n",
       " 'MKP': 'MKP',\n",
       " 'MLP': 'MLP',\n",
       " 'MPP': 'MPP',\n",
       " 'Mono': 'Mono',\n",
       " 'NK': 'NK',\n",
       " 'Plasma': 'B_cell',\n",
       " 'PreBNK': 'PreBNK',\n",
       " 'ProB': 'B_cell',\n",
       " 'Refined.HSC': 'HSC',\n",
       " 'cDC': 'Dendritic_cell',\n",
       " 'iHSC': 'iHSC',\n",
       " 'pDC': 'Dendritic_cell',\n",
       " 'sc_fib': 'Fib'}"
      ]
     },
     "execution_count": 20,
     "metadata": {},
     "output_type": "execute_result"
    }
   ],
   "source": [
    "def load_yaml(file_path):\n",
    "    \"\"\"Loads a YAML file and returns its contents as a Python dictionary.\n",
    "\n",
    "    Args:\n",
    "    file_path: The path to the YAML file.\n",
    "\n",
    "    Returns:\n",
    "    A Python dictionary representing the YAML data.\n",
    "    \"\"\"\n",
    "    with open(file_path, 'r') as file:\n",
    "        data = yaml.safe_load(file)\n",
    "    return data\n",
    "\n",
    "fpath = \"../../config/cell_type_map.yaml\"\n",
    "cell_map = load_yaml(fpath)\n"
   ]
  },
  {
   "cell_type": "code",
   "execution_count": null,
   "id": "917d1c8e-810f-46b8-9462-9c34fec7e5da",
   "metadata": {},
   "outputs": [],
   "source": []
  },
  {
   "cell_type": "code",
   "execution_count": 10,
   "id": "c400cdf6-286d-467c-bb2a-0fa1d4189e3e",
   "metadata": {},
   "outputs": [
    {
     "data": {
      "text/html": [
       "<div>\n",
       "<style scoped>\n",
       "    .dataframe tbody tr th:only-of-type {\n",
       "        vertical-align: middle;\n",
       "    }\n",
       "\n",
       "    .dataframe tbody tr th {\n",
       "        vertical-align: top;\n",
       "    }\n",
       "\n",
       "    .dataframe thead th {\n",
       "        text-align: right;\n",
       "    }\n",
       "</style>\n",
       "<table border=\"1\" class=\"dataframe\">\n",
       "  <thead>\n",
       "    <tr style=\"text-align: right;\">\n",
       "      <th></th>\n",
       "      <th>obs_index</th>\n",
       "      <th>dataset</th>\n",
       "    </tr>\n",
       "  </thead>\n",
       "  <tbody>\n",
       "    <tr>\n",
       "      <th>0</th>\n",
       "      <td>PreBNK_AGTTGAAC-TTGCATAT_1</td>\n",
       "      <td>PreBNK</td>\n",
       "    </tr>\n",
       "    <tr>\n",
       "      <th>1</th>\n",
       "      <td>PreBNK_AATCCGGC-TGAAATGA_1</td>\n",
       "      <td>PreBNK</td>\n",
       "    </tr>\n",
       "    <tr>\n",
       "      <th>2</th>\n",
       "      <td>PreBNK_CAAACATT-TCTGTGGT_1</td>\n",
       "      <td>PreBNK</td>\n",
       "    </tr>\n",
       "    <tr>\n",
       "      <th>3</th>\n",
       "      <td>PreBNK_AATCGAAG-AGTGAAAG_1</td>\n",
       "      <td>PreBNK</td>\n",
       "    </tr>\n",
       "    <tr>\n",
       "      <th>4</th>\n",
       "      <td>PreBNK_CGTGTACA-TTCCAGAC_1</td>\n",
       "      <td>PreBNK</td>\n",
       "    </tr>\n",
       "  </tbody>\n",
       "</table>\n",
       "</div>"
      ],
      "text/plain": [
       "                    obs_index dataset\n",
       "0  PreBNK_AGTTGAAC-TTGCATAT_1  PreBNK\n",
       "1  PreBNK_AATCCGGC-TGAAATGA_1  PreBNK\n",
       "2  PreBNK_CAAACATT-TCTGTGGT_1  PreBNK\n",
       "3  PreBNK_AATCGAAG-AGTGAAAG_1  PreBNK\n",
       "4  PreBNK_CGTGTACA-TTCCAGAC_1  PreBNK"
      ]
     },
     "execution_count": 10,
     "metadata": {},
     "output_type": "execute_result"
    }
   ],
   "source": [
    "df.head()"
   ]
  },
  {
   "cell_type": "code",
   "execution_count": null,
   "id": "39cc3dd2-2797-46fc-9e47-601757183493",
   "metadata": {},
   "outputs": [],
   "source": []
  }
 ],
 "metadata": {
  "kernelspec": {
   "display_name": "bioinf",
   "language": "python",
   "name": "bioinf"
  },
  "language_info": {
   "codemirror_mode": {
    "name": "ipython",
    "version": 3
   },
   "file_extension": ".py",
   "mimetype": "text/x-python",
   "name": "python",
   "nbconvert_exporter": "python",
   "pygments_lexer": "ipython3",
   "version": "3.10.14"
  }
 },
 "nbformat": 4,
 "nbformat_minor": 5
}
